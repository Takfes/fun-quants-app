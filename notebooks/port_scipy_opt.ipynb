{
 "cells": [
  {
   "cell_type": "markdown",
   "metadata": {},
   "source": [
    "# Financial Porfolios "
   ]
  },
  {
   "cell_type": "markdown",
   "metadata": {},
   "source": [
    "## Excursus: Optimization with scipy"
   ]
  },
  {
   "cell_type": "code",
   "execution_count": 1,
   "metadata": {},
   "outputs": [],
   "source": [
    "import pandas as pd\n",
    "import numpy as np\n",
    "\n",
    "pd.options.display.float_format = \"{:.4f}\".format\n",
    "np.set_printoptions(suppress=True)"
   ]
  },
  {
   "cell_type": "code",
   "execution_count": 2,
   "metadata": {},
   "outputs": [],
   "source": [
    "stocks = pd.read_csv(\"data/port_stocks.csv\", parse_dates=[\"Date\"], index_col=\"Date\")"
   ]
  },
  {
   "cell_type": "code",
   "execution_count": 3,
   "metadata": {},
   "outputs": [
    {
     "data": {
      "text/html": [
       "<div>\n",
       "<style scoped>\n",
       "    .dataframe tbody tr th:only-of-type {\n",
       "        vertical-align: middle;\n",
       "    }\n",
       "\n",
       "    .dataframe tbody tr th {\n",
       "        vertical-align: top;\n",
       "    }\n",
       "\n",
       "    .dataframe thead th {\n",
       "        text-align: right;\n",
       "    }\n",
       "</style>\n",
       "<table border=\"1\" class=\"dataframe\">\n",
       "  <thead>\n",
       "    <tr style=\"text-align: right;\">\n",
       "      <th></th>\n",
       "      <th>AMZN</th>\n",
       "      <th>BA</th>\n",
       "      <th>DIS</th>\n",
       "      <th>IBM</th>\n",
       "      <th>KO</th>\n",
       "      <th>MSFT</th>\n",
       "    </tr>\n",
       "    <tr>\n",
       "      <th>Date</th>\n",
       "      <th></th>\n",
       "      <th></th>\n",
       "      <th></th>\n",
       "      <th></th>\n",
       "      <th></th>\n",
       "      <th></th>\n",
       "    </tr>\n",
       "  </thead>\n",
       "  <tbody>\n",
       "    <tr>\n",
       "      <th>2013-12-31</th>\n",
       "      <td>398.7900</td>\n",
       "      <td>117.8600</td>\n",
       "      <td>71.1700</td>\n",
       "      <td>151.0700</td>\n",
       "      <td>34.8500</td>\n",
       "      <td>32.9100</td>\n",
       "    </tr>\n",
       "    <tr>\n",
       "      <th>2014-01-02</th>\n",
       "      <td>397.9700</td>\n",
       "      <td>118.0100</td>\n",
       "      <td>71.0500</td>\n",
       "      <td>149.4200</td>\n",
       "      <td>34.3000</td>\n",
       "      <td>32.6900</td>\n",
       "    </tr>\n",
       "    <tr>\n",
       "      <th>2014-01-03</th>\n",
       "      <td>396.4400</td>\n",
       "      <td>118.8300</td>\n",
       "      <td>70.9000</td>\n",
       "      <td>150.3200</td>\n",
       "      <td>34.1300</td>\n",
       "      <td>32.4700</td>\n",
       "    </tr>\n",
       "    <tr>\n",
       "      <th>2014-01-06</th>\n",
       "      <td>393.6300</td>\n",
       "      <td>119.5200</td>\n",
       "      <td>70.6300</td>\n",
       "      <td>149.8000</td>\n",
       "      <td>33.9700</td>\n",
       "      <td>31.7800</td>\n",
       "    </tr>\n",
       "    <tr>\n",
       "      <th>2014-01-07</th>\n",
       "      <td>398.0300</td>\n",
       "      <td>121.3300</td>\n",
       "      <td>71.1200</td>\n",
       "      <td>152.7900</td>\n",
       "      <td>34.0800</td>\n",
       "      <td>32.0300</td>\n",
       "    </tr>\n",
       "    <tr>\n",
       "      <th>...</th>\n",
       "      <td>...</td>\n",
       "      <td>...</td>\n",
       "      <td>...</td>\n",
       "      <td>...</td>\n",
       "      <td>...</td>\n",
       "      <td>...</td>\n",
       "    </tr>\n",
       "    <tr>\n",
       "      <th>2018-12-21</th>\n",
       "      <td>1377.4500</td>\n",
       "      <td>301.3000</td>\n",
       "      <td>104.2200</td>\n",
       "      <td>108.3700</td>\n",
       "      <td>47.1600</td>\n",
       "      <td>97.4500</td>\n",
       "    </tr>\n",
       "    <tr>\n",
       "      <th>2018-12-24</th>\n",
       "      <td>1343.9600</td>\n",
       "      <td>291.0200</td>\n",
       "      <td>100.3500</td>\n",
       "      <td>105.0800</td>\n",
       "      <td>45.5600</td>\n",
       "      <td>93.3800</td>\n",
       "    </tr>\n",
       "    <tr>\n",
       "      <th>2018-12-26</th>\n",
       "      <td>1470.9000</td>\n",
       "      <td>310.5800</td>\n",
       "      <td>105.8300</td>\n",
       "      <td>108.8100</td>\n",
       "      <td>46.5300</td>\n",
       "      <td>99.7600</td>\n",
       "    </tr>\n",
       "    <tr>\n",
       "      <th>2018-12-27</th>\n",
       "      <td>1461.6400</td>\n",
       "      <td>313.7500</td>\n",
       "      <td>106.5200</td>\n",
       "      <td>111.1500</td>\n",
       "      <td>47.1200</td>\n",
       "      <td>100.3800</td>\n",
       "    </tr>\n",
       "    <tr>\n",
       "      <th>2018-12-28</th>\n",
       "      <td>1478.0200</td>\n",
       "      <td>313.0000</td>\n",
       "      <td>107.3000</td>\n",
       "      <td>110.4200</td>\n",
       "      <td>46.7900</td>\n",
       "      <td>99.5900</td>\n",
       "    </tr>\n",
       "  </tbody>\n",
       "</table>\n",
       "<p>1258 rows × 6 columns</p>\n",
       "</div>"
      ],
      "text/plain": [
       "                AMZN       BA      DIS      IBM      KO     MSFT\n",
       "Date                                                            \n",
       "2013-12-31  398.7900 117.8600  71.1700 151.0700 34.8500  32.9100\n",
       "2014-01-02  397.9700 118.0100  71.0500 149.4200 34.3000  32.6900\n",
       "2014-01-03  396.4400 118.8300  70.9000 150.3200 34.1300  32.4700\n",
       "2014-01-06  393.6300 119.5200  70.6300 149.8000 33.9700  31.7800\n",
       "2014-01-07  398.0300 121.3300  71.1200 152.7900 34.0800  32.0300\n",
       "...              ...      ...      ...      ...     ...      ...\n",
       "2018-12-21 1377.4500 301.3000 104.2200 108.3700 47.1600  97.4500\n",
       "2018-12-24 1343.9600 291.0200 100.3500 105.0800 45.5600  93.3800\n",
       "2018-12-26 1470.9000 310.5800 105.8300 108.8100 46.5300  99.7600\n",
       "2018-12-27 1461.6400 313.7500 106.5200 111.1500 47.1200 100.3800\n",
       "2018-12-28 1478.0200 313.0000 107.3000 110.4200 46.7900  99.5900\n",
       "\n",
       "[1258 rows x 6 columns]"
      ]
     },
     "execution_count": 3,
     "metadata": {},
     "output_type": "execute_result"
    }
   ],
   "source": [
    "stocks  # stock prices 2014-2018"
   ]
  },
  {
   "cell_type": "code",
   "execution_count": 4,
   "metadata": {},
   "outputs": [],
   "source": [
    "ret = stocks.pct_change().dropna()"
   ]
  },
  {
   "cell_type": "code",
   "execution_count": 5,
   "metadata": {},
   "outputs": [
    {
     "data": {
      "text/html": [
       "<div>\n",
       "<style scoped>\n",
       "    .dataframe tbody tr th:only-of-type {\n",
       "        vertical-align: middle;\n",
       "    }\n",
       "\n",
       "    .dataframe tbody tr th {\n",
       "        vertical-align: top;\n",
       "    }\n",
       "\n",
       "    .dataframe thead th {\n",
       "        text-align: right;\n",
       "    }\n",
       "</style>\n",
       "<table border=\"1\" class=\"dataframe\">\n",
       "  <thead>\n",
       "    <tr style=\"text-align: right;\">\n",
       "      <th></th>\n",
       "      <th>AMZN</th>\n",
       "      <th>BA</th>\n",
       "      <th>DIS</th>\n",
       "      <th>IBM</th>\n",
       "      <th>KO</th>\n",
       "      <th>MSFT</th>\n",
       "    </tr>\n",
       "    <tr>\n",
       "      <th>Date</th>\n",
       "      <th></th>\n",
       "      <th></th>\n",
       "      <th></th>\n",
       "      <th></th>\n",
       "      <th></th>\n",
       "      <th></th>\n",
       "    </tr>\n",
       "  </thead>\n",
       "  <tbody>\n",
       "    <tr>\n",
       "      <th>2014-01-02</th>\n",
       "      <td>-0.0021</td>\n",
       "      <td>0.0013</td>\n",
       "      <td>-0.0017</td>\n",
       "      <td>-0.0109</td>\n",
       "      <td>-0.0158</td>\n",
       "      <td>-0.0067</td>\n",
       "    </tr>\n",
       "    <tr>\n",
       "      <th>2014-01-03</th>\n",
       "      <td>-0.0038</td>\n",
       "      <td>0.0069</td>\n",
       "      <td>-0.0021</td>\n",
       "      <td>0.0060</td>\n",
       "      <td>-0.0050</td>\n",
       "      <td>-0.0067</td>\n",
       "    </tr>\n",
       "    <tr>\n",
       "      <th>2014-01-06</th>\n",
       "      <td>-0.0071</td>\n",
       "      <td>0.0058</td>\n",
       "      <td>-0.0038</td>\n",
       "      <td>-0.0035</td>\n",
       "      <td>-0.0047</td>\n",
       "      <td>-0.0213</td>\n",
       "    </tr>\n",
       "    <tr>\n",
       "      <th>2014-01-07</th>\n",
       "      <td>0.0112</td>\n",
       "      <td>0.0151</td>\n",
       "      <td>0.0069</td>\n",
       "      <td>0.0200</td>\n",
       "      <td>0.0032</td>\n",
       "      <td>0.0079</td>\n",
       "    </tr>\n",
       "    <tr>\n",
       "      <th>2014-01-08</th>\n",
       "      <td>0.0098</td>\n",
       "      <td>0.0022</td>\n",
       "      <td>-0.0148</td>\n",
       "      <td>-0.0092</td>\n",
       "      <td>-0.0112</td>\n",
       "      <td>-0.0178</td>\n",
       "    </tr>\n",
       "    <tr>\n",
       "      <th>...</th>\n",
       "      <td>...</td>\n",
       "      <td>...</td>\n",
       "      <td>...</td>\n",
       "      <td>...</td>\n",
       "      <td>...</td>\n",
       "      <td>...</td>\n",
       "    </tr>\n",
       "    <tr>\n",
       "      <th>2018-12-21</th>\n",
       "      <td>-0.0571</td>\n",
       "      <td>-0.0272</td>\n",
       "      <td>-0.0260</td>\n",
       "      <td>-0.0185</td>\n",
       "      <td>0.0006</td>\n",
       "      <td>-0.0324</td>\n",
       "    </tr>\n",
       "    <tr>\n",
       "      <th>2018-12-24</th>\n",
       "      <td>-0.0243</td>\n",
       "      <td>-0.0341</td>\n",
       "      <td>-0.0371</td>\n",
       "      <td>-0.0304</td>\n",
       "      <td>-0.0339</td>\n",
       "      <td>-0.0418</td>\n",
       "    </tr>\n",
       "    <tr>\n",
       "      <th>2018-12-26</th>\n",
       "      <td>0.0945</td>\n",
       "      <td>0.0672</td>\n",
       "      <td>0.0546</td>\n",
       "      <td>0.0355</td>\n",
       "      <td>0.0213</td>\n",
       "      <td>0.0683</td>\n",
       "    </tr>\n",
       "    <tr>\n",
       "      <th>2018-12-27</th>\n",
       "      <td>-0.0063</td>\n",
       "      <td>0.0102</td>\n",
       "      <td>0.0065</td>\n",
       "      <td>0.0215</td>\n",
       "      <td>0.0127</td>\n",
       "      <td>0.0062</td>\n",
       "    </tr>\n",
       "    <tr>\n",
       "      <th>2018-12-28</th>\n",
       "      <td>0.0112</td>\n",
       "      <td>-0.0024</td>\n",
       "      <td>0.0073</td>\n",
       "      <td>-0.0066</td>\n",
       "      <td>-0.0070</td>\n",
       "      <td>-0.0079</td>\n",
       "    </tr>\n",
       "  </tbody>\n",
       "</table>\n",
       "<p>1257 rows × 6 columns</p>\n",
       "</div>"
      ],
      "text/plain": [
       "              AMZN      BA     DIS     IBM      KO    MSFT\n",
       "Date                                                      \n",
       "2014-01-02 -0.0021  0.0013 -0.0017 -0.0109 -0.0158 -0.0067\n",
       "2014-01-03 -0.0038  0.0069 -0.0021  0.0060 -0.0050 -0.0067\n",
       "2014-01-06 -0.0071  0.0058 -0.0038 -0.0035 -0.0047 -0.0213\n",
       "2014-01-07  0.0112  0.0151  0.0069  0.0200  0.0032  0.0079\n",
       "2014-01-08  0.0098  0.0022 -0.0148 -0.0092 -0.0112 -0.0178\n",
       "...            ...     ...     ...     ...     ...     ...\n",
       "2018-12-21 -0.0571 -0.0272 -0.0260 -0.0185  0.0006 -0.0324\n",
       "2018-12-24 -0.0243 -0.0341 -0.0371 -0.0304 -0.0339 -0.0418\n",
       "2018-12-26  0.0945  0.0672  0.0546  0.0355  0.0213  0.0683\n",
       "2018-12-27 -0.0063  0.0102  0.0065  0.0215  0.0127  0.0062\n",
       "2018-12-28  0.0112 -0.0024  0.0073 -0.0066 -0.0070 -0.0079\n",
       "\n",
       "[1257 rows x 6 columns]"
      ]
     },
     "execution_count": 5,
     "metadata": {},
     "output_type": "execute_result"
    }
   ],
   "source": [
    "ret  # stock returns 2014-2018"
   ]
  },
  {
   "cell_type": "code",
   "execution_count": 6,
   "metadata": {},
   "outputs": [],
   "source": [
    "rf = 0.017  # risk free return"
   ]
  },
  {
   "cell_type": "code",
   "execution_count": 7,
   "metadata": {},
   "outputs": [],
   "source": [
    "# calculate annualized portfolio return (based on weights)\n",
    "def port_ret(weights):\n",
    "    return ret.dot(weights.T).mean() * 252"
   ]
  },
  {
   "cell_type": "code",
   "execution_count": 8,
   "metadata": {},
   "outputs": [],
   "source": [
    "# calculate annualized portfolio volatility (based on weights)\n",
    "def port_vol(weights):\n",
    "    return ret.dot(weights.T).std() * np.sqrt(252)"
   ]
  },
  {
   "cell_type": "code",
   "execution_count": 9,
   "metadata": {},
   "outputs": [],
   "source": [
    "import scipy.optimize as sco  # import scipy optimize"
   ]
  },
  {
   "cell_type": "code",
   "execution_count": 10,
   "metadata": {},
   "outputs": [],
   "source": [
    "# define function to be minimized (sco only supports minimize, not maximize)\n",
    "# -> maximize sharpe ratio == minimize sharpe ratio * (-1)\n",
    "def min_func_sharpe(weights):\n",
    "    return (rf - port_ret(weights)) / port_vol(weights)  # sharpe ratio * (-1)"
   ]
  },
  {
   "cell_type": "code",
   "execution_count": 11,
   "metadata": {},
   "outputs": [
    {
     "data": {
      "text/plain": [
       "6"
      ]
     },
     "execution_count": 11,
     "metadata": {},
     "output_type": "execute_result"
    }
   ],
   "source": [
    "# number of assets\n",
    "noa = len(ret.columns)\n",
    "noa"
   ]
  },
  {
   "cell_type": "code",
   "execution_count": 12,
   "metadata": {},
   "outputs": [
    {
     "data": {
      "text/plain": [
       "array([0.16666667, 0.16666667, 0.16666667, 0.16666667, 0.16666667,\n",
       "       0.16666667])"
      ]
     },
     "execution_count": 12,
     "metadata": {},
     "output_type": "execute_result"
    }
   ],
   "source": [
    "# equal weights (starting point of optimization)\n",
    "eweigths = np.full(noa, 1 / noa)\n",
    "eweigths"
   ]
  },
  {
   "cell_type": "code",
   "execution_count": 13,
   "metadata": {},
   "outputs": [],
   "source": [
    "# constraint: weights must sum up to 1 -> sum of weights - 1 = 0\n",
    "cons = {\"type\": \"eq\", \"fun\": lambda x: np.sum(x) - 1}"
   ]
  },
  {
   "cell_type": "code",
   "execution_count": 14,
   "metadata": {},
   "outputs": [],
   "source": [
    "# bounds: all weights shall be between 0 and 1 -> can be changed\n",
    "bnds = tuple((0, 1) for x in range(noa))"
   ]
  },
  {
   "cell_type": "code",
   "execution_count": 15,
   "metadata": {},
   "outputs": [],
   "source": [
    "# run optimization based on function to be minimized, starting with equal weights and based on respective bounds and constraints\n",
    "opts = sco.minimize(\n",
    "    min_func_sharpe, eweigths, method=\"SLSQP\", bounds=bnds, constraints=cons\n",
    ")"
   ]
  },
  {
   "cell_type": "code",
   "execution_count": 16,
   "metadata": {},
   "outputs": [
    {
     "data": {
      "text/plain": [
       " message: Optimization terminated successfully\n",
       " success: True\n",
       "  status: 0\n",
       "     fun: -1.1960346770555421\n",
       "       x: [ 2.596e-01  3.488e-01  0.000e+00  2.034e-16  0.000e+00\n",
       "            3.916e-01]\n",
       "     nit: 5\n",
       "     jac: [-8.484e-02 -8.490e-02  5.424e-02  8.099e-01 -4.175e-02\n",
       "           -8.554e-02]\n",
       "    nfev: 35\n",
       "    njev: 5"
      ]
     },
     "execution_count": 16,
     "metadata": {},
     "output_type": "execute_result"
    }
   ],
   "source": [
    "# output of optimization\n",
    "opts"
   ]
  },
  {
   "cell_type": "code",
   "execution_count": 17,
   "metadata": {},
   "outputs": [
    {
     "data": {
      "text/plain": [
       "array([0.25960831, 0.34875076, 0.        , 0.        , 0.        ,\n",
       "       0.39164093])"
      ]
     },
     "execution_count": 17,
     "metadata": {},
     "output_type": "execute_result"
    }
   ],
   "source": [
    "# getting the optimal weights\n",
    "optimal_weights = opts[\"x\"]\n",
    "optimal_weights"
   ]
  },
  {
   "cell_type": "code",
   "execution_count": 18,
   "metadata": {},
   "outputs": [
    {
     "data": {
      "text/plain": [
       "0.2558361965158479"
      ]
     },
     "execution_count": 18,
     "metadata": {},
     "output_type": "execute_result"
    }
   ],
   "source": [
    "# return of the optimal portfolio\n",
    "port_ret(optimal_weights)"
   ]
  },
  {
   "cell_type": "code",
   "execution_count": 19,
   "metadata": {},
   "outputs": [
    {
     "data": {
      "text/plain": [
       "0.199690026633531"
      ]
     },
     "execution_count": 19,
     "metadata": {},
     "output_type": "execute_result"
    }
   ],
   "source": [
    "# volatility of the optimal portfolio\n",
    "port_vol(optimal_weights)"
   ]
  },
  {
   "cell_type": "code",
   "execution_count": 20,
   "metadata": {},
   "outputs": [
    {
     "data": {
      "text/plain": [
       "1.1960346770555421"
      ]
     },
     "execution_count": 20,
     "metadata": {},
     "output_type": "execute_result"
    }
   ],
   "source": [
    "# sharpe ratio of the optimal portfolio\n",
    "-min_func_sharpe(optimal_weights)"
   ]
  }
 ],
 "metadata": {
  "kernelspec": {
   "display_name": "Python 3",
   "language": "python",
   "name": "python3"
  },
  "language_info": {
   "codemirror_mode": {
    "name": "ipython",
    "version": 3
   },
   "file_extension": ".py",
   "mimetype": "text/x-python",
   "name": "python",
   "nbconvert_exporter": "python",
   "pygments_lexer": "ipython3",
   "version": "3.9.13"
  }
 },
 "nbformat": 4,
 "nbformat_minor": 2
}
